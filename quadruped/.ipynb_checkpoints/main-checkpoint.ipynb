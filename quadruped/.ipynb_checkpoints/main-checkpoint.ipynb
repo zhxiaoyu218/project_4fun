{
 "cells": [
  {
   "cell_type": "code",
   "execution_count": 1,
   "metadata": {},
   "outputs": [],
   "source": [
    "import pybullet as pb\n",
    "import time\n",
    "import pybullet_data"
   ]
  },
  {
   "cell_type": "code",
   "execution_count": 2,
   "metadata": {},
   "outputs": [],
   "source": [
    "# physicsClient = pb.connect(pb.GUI)#or p.DIRECT for non-graphical version\n",
    "\n",
    "physicsClient = pb.connect(pb.DIRECT)#or p.DIRECT for non-graphical version\n",
    "pb.setAdditionalSearchPath(pybullet_data.getDataPath()) #optionally\n",
    "pb.setGravity(0,0,-10)\n",
    "planeId = pb.loadURDF(\"plane.urdf\")\n",
    "\n",
    "cubeStartPos = [0,0,1]\n",
    "cubeStartOrientation = pb.getQuaternionFromEuler([0,0,0])\n",
    "boxId = pb.loadURDF(\"r2d2.urdf\",cubeStartPos, cubeStartOrientation)\n"
   ]
  },
  {
   "cell_type": "code",
   "execution_count": 8,
   "metadata": {},
   "outputs": [
    {
     "name": "stdout",
     "output_type": "stream",
     "text": [
      "15\n"
     ]
    }
   ],
   "source": [
    "print(pb.getNumJoints(boxId))\n"
   ]
  },
  {
   "cell_type": "code",
   "execution_count": null,
   "metadata": {},
   "outputs": [],
   "source": [
    "for i in range (10000):\n",
    "    pb.stepSimulation()\n",
    "    time.sleep(1./240.)\n",
    "    \n",
    "cubePos, cubeOrn = pb.getBasePositionAndOrientation(boxId)\n",
    "print(cubePos,cubeOrn)\n",
    "pb.disconnect()"
   ]
  }
 ],
 "metadata": {
  "kernelspec": {
   "display_name": "Python 3",
   "language": "python",
   "name": "python3"
  },
  "language_info": {
   "codemirror_mode": {
    "name": "ipython",
    "version": 3
   },
   "file_extension": ".py",
   "mimetype": "text/x-python",
   "name": "python",
   "nbconvert_exporter": "python",
   "pygments_lexer": "ipython3",
   "version": "3.5.2"
  }
 },
 "nbformat": 4,
 "nbformat_minor": 2
}
